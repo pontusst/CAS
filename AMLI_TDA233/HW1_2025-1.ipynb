{
 "cells": [
  {
   "cell_type": "markdown",
   "metadata": {
    "colab_type": "text",
    "id": "1UKOQcXNtJ8e"
   },
   "source": [
    "# TDA233 / DIT382 Machine Learning: Homework 1 <br />\n",
    "**Goal:** Start working with Jupyter notebooks, introduction to probability and regression models <br />\n",
    "**Grader:** Jack Sandberg <br />\n",
    "**Submitted by:** 📝 Pontus Strandvik, 19920613-2590, pontus.strandvik@hotmail.se and William Snäll, 199903291830, snallw@chalmers.se <br />"
   ]
  },
  {
   "cell_type": "markdown",
   "metadata": {},
   "source": []
  },
  {
   "cell_type": "markdown",
   "metadata": {
    "colab_type": "text",
    "id": "PQ8gZxqWtJ8h"
   },
   "source": [
    "# Read this before starting"
   ]
  },
  {
   "cell_type": "markdown",
   "metadata": {},
   "source": [
    "\n",
    "## General guidelines\n",
    "* Answer all fields marked with 📝 (and `# TODO` in the code blocks). This includes\n",
    "    * your name, personal number and email address above, and\n",
    "    * all later fields marked with \"📝 Your answer here:\".\n",
    "* Feel free to add more cells if needed.\n",
    "* All solutions to theoretical and pratical problems must be submitted in this notebook, and equations wherever required, should be formatted using LaTeX math-mode.\n",
    "    * Do NOT hand in an assignment that isn't runnable!\n",
    "* All discussion regarding practical problems, along with solutions and plots should be specified in this notebook. \n",
    "All plots/results should be visible such that the notebook does not have to be run. But the code in the notebook should reproduce the plots/results if we choose to do so.\n",
    "* All tables and other additional information should be included in this notebook.\n",
    "* **Before submitting, make sure that your code can run on another computer, i.e. that all plots can show on another computer including all your text and equations. It is good to check if your code can run here: https://colab.research.google.com**\n",
    "* **Submit your solutions as a notebook file (`.ipynb`) and in HTML format (`.html`). To export this notebook to HTML format click `File` $\\rightarrow$ `Download as` $\\rightarrow$ `HTML`.**\n",
    "\n",
    "**Jupyter/IPython Notebook** is a collaborative Python web-based environment. This will be used in all our Homework Assignments. It is installed in the halls ES61-ES62, E-studio and MT9. You can also use google-colab: https://colab.research.google.com\n",
    "to run these notebooks without having to download, install, or do anything on your own computer other than a browser.\n",
    "Some useful resources:\n",
    "1. https://jupyter-notebook-beginner-guide.readthedocs.io/en/latest/ (Quick-start guide)\n",
    "2. https://www.kdnuggets.com/2016/04/top-10-ipython-nb-tutorials.html\n",
    "3. http://jupyter-notebook.readthedocs.io/en/stable/examples/Notebook/Working%20With%20Markdown%20Cells.html (markdown)"
   ]
  },
  {
   "cell_type": "markdown",
   "metadata": {},
   "source": [
    "## Required software\n",
    "\n",
    "For the practical problem in this assignment you will need to install the following Python packages:\n",
    "\n",
    "- `numpy`: The fundamental package for scientific computing with Python (so fundamental there is a [Nature review](https://www.nature.com/articles/s41586-020-2649-2) on it)\n",
    "- `matplotlib`: Visualization with Python\n",
    "- `sklearn`: Scikit-learn is a package for performing machine learning in Python.\n",
    "\n",
    "> **Note:** In Google Colab you can install packages using   `!pip  install <package_name>`\n",
    "\n",
    "> **Note:** In Google Colab these packages should be preinstalled but it is a good habit to check if all required packages are installed beforehand and the installed versions of packages. Use `!pip list` to list packages installed by pip on Google Colab.\n",
    "\n",
    "> **Note:** We recommend that you install these packages in a [virtual environment](https://docs.python.org/3/library/venv.html) if you are running this on your own computer."
   ]
  },
  {
   "cell_type": "markdown",
   "metadata": {
    "colab_type": "text",
    "id": "fl1Lu21rtJ8k"
   },
   "source": [
    "# Part 1: Theoretical problems"
   ]
  },
  {
   "cell_type": "markdown",
   "metadata": {},
   "source": [
    "## Problem 1: Bayes Rule [3 points]\n",
    "\n",
    "After your yearly checkup, the doctor has bad news and good news. The\n",
    "bad news is that you tested positive for a very serious cancer and\n",
    "that the test is 99.5% accurate i.e. the probability of testing\n",
    "positive given you have the disease is 0.995. The probability of\n",
    "testing negative if you don’t have the disease is the same (also 0.995). The good news is that it is a rare condition affecting only 1 in 500 people. **What is the probability you actually have the disease?** \n",
    "\n",
    "After doing all your calculations you realize that there was a misprint on the test, and the accuracy was actually only 95% (for both testing postive given that you have the disease and for testing negative given that you do not have the disease). **How will this change your probability of having the disease?**\n",
    "\n",
    "Show all calculations and the final result. Remember to use LaTeX math-mode to format mathematical expressions and equations.\n"
   ]
  },
  {
   "cell_type": "markdown",
   "metadata": {},
   "source": [
    "#### 📝 Your answer here: "
   ]
  },
  {
   "cell_type": "markdown",
   "metadata": {},
   "source": [
    "Step 1: Define the variables:\n",
    "- \\( X = 1 \\): The event of having the disease.\n",
    "- \\( X = 0 \\): The event of not having the disease.\n",
    "- \\( Y = 1 \\): The event of testing positive.\n",
    "- \\( Y = 0 \\): The event of testing negative.\n",
    "\n",
    "Known probabilities:\n",
    "- The prevalence of the disease:\n",
    "$\n",
    "P(X = 1) = \\frac{1}{500} = 0.002\n",
    "$\n",
    "$\n",
    "P(X = 0) = 1 - P(X = 1) = 0.998\n",
    "$\n",
    "\n",
    "Case 1: Test accuracy 99.5%\n",
    "$\n",
    "P(Y = 1 \\mid X = 1) = 0.995, \\quad P(Y = 0 \\mid X = 0) = 0.995\n",
    "$\n",
    "$\n",
    "P(Y = 0 \\mid X = 1) = 1 - P(Y = 1 \\mid X = 1) = 0.005, \\quad P(Y = 1 \\mid X = 0) = 1 - P(Y = 0 \\mid X = 0) = 0.005\n",
    "$\n",
    "\n",
    "Case 2: Test accuracy 95%\n",
    "$\n",
    "P(Y = 1 \\mid X = 1) = 0.95, \\quad P(Y = 0 \\mid X = 0) = 0.95\n",
    "$\n",
    "$\n",
    "P(Y = 0 \\mid X = 1) = 1 - P(Y = 1 \\mid X = 1) = 0.05, \\quad P(Y = 1 \\mid X = 0) = 1 - P(Y = 0 \\mid X = 0) = 0.05\n",
    "$\n",
    "\n",
    "\n",
    "\n",
    "Bayes' Theorem:\n",
    "Bayes' Theorem calculates the probability of having the disease given a positive test result:\n",
    "$\n",
    "P(X = 1 \\mid Y = 1) = \\frac{P(Y = 1 \\mid X = 1) P(X = 1)}{P(Y = 1)}\n",
    "$\n",
    "where:\n",
    "$\n",
    "P(Y = 1) = P(Y = 1 \\mid X = 1) P(X = 1) + P(Y = 1 \\mid X = 0) P(X = 0)\n",
    "$\n",
    "\n",
    "\n",
    "\n",
    "-Case 1: Test accuracy 99.5%\n",
    "1. Calculate \\( P(Y = 1) \\):\n",
    "$\n",
    "P(Y = 1) = P(Y = 1 \\mid X = 1) P(X = 1) + P(Y = 1 \\mid X = 0) P(X = 0)\n",
    "$\n",
    "$\n",
    "P(Y = 1) = (0.995)(0.002) + (0.005)(0.998)\n",
    "$\n",
    "$\n",
    "P(Y = 1) = 0.00199 + 0.00499 = 0.00698\n",
    "$\n",
    "\n",
    "2. Calculate \\( P(X = 1 \\mid Y = 1) \\):\n",
    "$\n",
    "P(X = 1 \\mid Y = 1) = \\frac{P(Y = 1 \\mid X = 1) P(X = 1)}{P(Y = 1)}\n",
    "$\n",
    "$\n",
    "P(X = 1 \\mid Y = 1) = \\frac{(0.995)(0.002)}{0.00698}\n",
    "$\n",
    "$\n",
    "P(X = 1 \\mid Y = 1) = \\frac{0.00199}{0.00698} \\approx 0.285\n",
    "$\n",
    "\n",
    "\n",
    "\n",
    "Case 2: Test accuracy 95%\n",
    "1. Calculate $ P(Y = 1)$: \n",
    "$\n",
    "P(Y = 1) = P(Y = 1 \\mid X = 1) P(X = 1) + P(Y = 1 \\mid X = 0) P(X = 0)\n",
    "$\n",
    "$\n",
    "P(Y = 1) = (0.95)(0.002) + (0.05)(0.998)\n",
    "$\n",
    "$\n",
    "P(Y = 1) = 0.0019 + 0.0499 = 0.0518\n",
    "$\n",
    "\n",
    "2. Calculate $ P(X = 1 \\mid Y = 1)$ :\n",
    "$\n",
    "P(X = 1 \\mid Y = 1) = \\frac{P(Y = 1 \\mid X = 1) P(X = 1)}{P(Y = 1)}\n",
    "$\n",
    "$\n",
    "P(X = 1 \\mid Y = 1) = \\frac{(0.95)(0.002)}{0.0518}\n",
    "$\n",
    "$\n",
    "P(X = 1 \\mid Y = 1) = \\frac{0.0019}{0.0518} \\approx 0.037\n",
    "$\n",
    "\n",
    "\n",
    "\n",
    "Finally: \n",
    "1. When the test accuracy is **99.5%**, the probability of having the disease given a positive test result is:\n",
    "$\n",
    "P(X = 1 \\mid Y = 1) \\approx 28.5\\%\n",
    "$\n",
    "\n",
    "2. When the test accuracy is **95%**, the probability of having the disease given a positive test result decreases to:\n",
    "$\n",
    "P(X = 1 \\mid Y = 1) \\approx 3.7\\%\n",
    "$\n",
    "\n",
    "Thus, the lower test accuracy significantly reduces the probability of actually having the disease after testing positive.\n"
   ]
  },
  {
   "cell_type": "markdown",
   "metadata": {},
   "source": [
    "## Problem 2: Setting hyperparameters [2 points]\n",
    "\n",
    "Suppose $\\theta$ is a random variable generated from a beta distribution as: $\\theta \\sim \\text{Beta}(a^2,b)$. Also assume that  the expectation of $\\theta$ is $m$: $E[\\theta] = m$\n",
    "and the variance of $\\theta$ is $v$: $\\text{Var}(\\theta) = v$. Express $a$ and $b$ in terms of (only) $m$ and $v$.\n",
    "For more information about the $\\text{Beta}$ distribution see https://en.wikipedia.org/wiki/Beta_distribution."
   ]
  },
  {
   "cell_type": "markdown",
   "metadata": {},
   "source": [
    "#### 📝 Your answer here: "
   ]
  },
  {
   "cell_type": "markdown",
   "metadata": {},
   "source": [
    "Define the properties of the Beta distribution  \n",
    "For $\\theta \\sim \\text{Beta}(a^2, b)$, the following properties hold:\n",
    "1. The expectation is:\n",
    "   $\n",
    "   E[\\theta] = \\frac{a^2}{a^2 + b} = m\n",
    "   $\n",
    "2. The variance is:\n",
    "   $\n",
    "   \\text{Var}(\\theta) = \\frac{a^2 b}{(a^2 + b)^2 (a^2 + b + 1)} = v\n",
    "   $\n",
    "\n",
    "\n",
    "\n",
    "Step 2: Express $b$ in terms of $a^2$ and $m$  \n",
    "From the expectation:\n",
    "$\n",
    "m = \\frac{a^2}{a^2 + b}\n",
    "$\n",
    "Rearranging for $b$:\n",
    "$\n",
    "b = \\frac{a^2 (1 - m)}{m}\n",
    "$\n",
    "\n",
    "\n",
    "\n",
    "Step 3: Substitute $b$ into the variance equation  \n",
    "The variance is:\n",
    "$\n",
    "v = \\frac{a^2 b}{(a^2 + b)^2 (a^2 + b + 1)}\n",
    "$\n",
    "Substitute $b = \\frac{a^2 (1 - m)}{m}$:\n",
    "$\n",
    "v = \\frac{a^2 \\cdot \\frac{a^2 (1 - m)}{m}}{\\left(a^2 + \\frac{a^2 (1 - m)}{m}\\right)^2 \\left(a^2 + \\frac{a^2 (1 - m)}{m} + 1\\right)}\n",
    "$\n",
    "\n",
    "\n",
    "\n",
    "Step 4: Simplify the terms  \n",
    "1. Combine $a^2 + b$:\n",
    "   $\n",
    "   a^2 + b = a^2 + \\frac{a^2 (1 - m)}{m} = \\frac{a^2}{m}\n",
    "   $\n",
    "2. Combine $a^2 + b + 1$:\n",
    "   $\n",
    "   a^2 + b + 1 = \\frac{a^2}{m} + 1\n",
    "   $\n",
    "Substituting these into the variance equation:\n",
    "$\n",
    "v = \\frac{a^4 (1 - m)}{m \\cdot \\left(\\frac{a^2}{m}\\right)^2 \\cdot \\left(\\frac{a^2}{m} + 1\\right)}\n",
    "$\n",
    "\n",
    "\n",
    "\n",
    "Step 5: Simplify further  \n",
    "1. Simplify $\\left(\\frac{a^2}{m}\\right)^2$:\n",
    "   $\n",
    "   \\left(\\frac{a^2}{m}\\right)^2 = \\frac{a^4}{m^2}\n",
    "   $\n",
    "2. Substitute into the variance:\n",
    "   $\n",
    "   v = \\frac{a^4 (1 - m)}{m \\cdot \\frac{a^4}{m^2} \\cdot \\left(\\frac{a^2}{m} + 1\\right)}\n",
    "   $\n",
    "   $\n",
    "   v = \\frac{a^4 (1 - m) m^2}{m a^4 \\left(\\frac{a^2}{m} + 1\\right)}\n",
    "   $\n",
    "Cancel $a^4$:\n",
    "$\n",
    "v = \\frac{(1 - m) m^2}{\\frac{a^2}{m} + 1}\n",
    "$\n",
    "\n",
    "\n",
    "\n",
    "Step 6: Solve for $a^2$  \n",
    "Rearrange to isolate $a^2$:\n",
    "$\n",
    "\\frac{(1 - m) m^2}{v} = \\frac{a^2}{m} + 1\n",
    "$\n",
    "$\n",
    "\\frac{(1 - m) m^2}{v} - 1 = \\frac{a^2}{m}\n",
    "$\n",
    "$\n",
    "a^2 = m \\left(\\frac{(1 - m) m^2}{v} - 1\\right)\n",
    "$\n",
    "\n",
    "\n",
    "Step 7: Solve for $b$  \n",
    "Using $b = \\frac{a^2 (1 - m)}{m}$, substitute $a^2$:\n",
    "$\n",
    "b = \\frac{m \\left(\\frac{(1 - m) m^2}{v} - 1\\right) (1 - m)}{m}\n",
    "$\n",
    "$\n",
    "b = \\left(\\frac{(1 - m) m^2}{v} - 1\\right)(1 - m)\n",
    "$\n",
    "\n",
    "\n",
    "\n",
    "Final Result  \n",
    "The parameters $a$ and $b$ are expressed as:\n",
    "1. $a$:\n",
    "   $\n",
    "   a = \\sqrt{m \\left(\\frac{(1 - m) m^2}{v} - 1\\right)}\n",
    "   $\n",
    "2. $b$:\n",
    "   $\n",
    "   b = \\left(\\frac{(1 - m) m^2}{v} - 1\\right)(1 - m)\n",
    "   $\n"
   ]
  },
  {
   "cell_type": "markdown",
   "metadata": {},
   "source": [
    "## Problem 3: Correlation and Independence [2 points]\n",
    "\n",
    "Let $X$ be a continuous random variable, uniformly distributed in $[-2, +2]$ and let $Y := X^4$. Clearly $Y$ is not independent of $X$ -- in fact it is uniquely determined by $X$. However, show that the covariance of $X$ and $Y$ is 0: $\\text{cov}(X, Y ) = 0$.\n",
    "Show and justify every step of the proof. Statements like \"it is obvious that, it is trivial ...\" will not be accepted."
   ]
  },
  {
   "cell_type": "markdown",
   "metadata": {},
   "source": [
    "#### 📝 Your answer here: \n",
    "\n",
    "We know that COV(X, Y) = $E[(X - x_\\mu)(Y - y_\\mu)]$. $\\newline$  $x_\\mu = E[X] = \\int_{a}^{b} xp(x) \\, dx$. p(x) for x is uniform and has the form $\\frac{1}{b-a}$ wich evaluates to $\\frac{1}{4}$. So $\\int_{a}^{b} xp(x) \\, dx$ evaluates to $\\int_{-2}^{2} x \\frac{1}{4} \\, dx = \\frac{1}{4}\\left[\\frac{x^2}{2}\\right]_{-2}^{2} = \\frac{1}{4}(\\frac{4}{2} - \\frac{4}{2}).$ $\\newline$ Doing the same thing for $y_\\mu$ we get $y_\\mu = E[Y] = E[X^4] = \\int_{-2}^{2} x^4 \\frac{1}{4} = \\frac{1}{4}\\left[\\frac{x^5}{5}\\right]_{-2}^{2} = \\frac{1}{4}(\\frac{32}{5} - (-\\frac{32}{5})) = \\frac{64}{20} = \\frac{16}{5} $ $\\newline$ \n",
    "Now we can evaluate $E[(X - x_\\mu)(Y - y_\\mu)]$ $\\newline$\n",
    "COV(X,Y) = $E[(x - 0)(x^4 - \\frac{16}{5})] = E[(x^5 - \\frac{16x}{5})] = \\frac{1}{4}\\int_{-2}^{2} (x^5  - \\frac{16x}{5}) \\, dx = \\frac{1}{4}\\left[\\frac{x^6}{6} -\\frac{16x^2}{10}\\right]_{-2}^{2} = \\frac{1}{4}((\\frac{64}{6} - \\frac{64}{10})-(\\frac{64}{6} - \\frac{64}{10})) = 0 $"
   ]
  },
  {
   "cell_type": "markdown",
   "metadata": {},
   "source": [
    "## Problem 4: Spherical Gaussian estimation [4 points]\n",
    "\n",
    "Consider a dataset $X$ consisting of i.i.d. observations\n",
    "generated from a spherical Gaussian distribution $N(\\mu, \\sigma^2I)$, where $\\mu \\in \\mathbb{R}^p$, $I$ \n",
    "is the $p \\times p $ identity matrix, and $\\sigma^2$ is a scalar.\n",
    "\n",
    "Write the mathematical expression for the Maximum Likelihood Estimator (MLE) for $\\mu$ and $\\sigma$ in above setup.\n",
    "\n",
    "For more information about the spherical Gaussian distribution, see https://en.wikipedia.org/wiki/Multivariate_normal_distribution.\n",
    "For more information about the identity matrix see: https://en.wikipedia.org/wiki/Identity_matrix"
   ]
  },
  {
   "cell_type": "markdown",
   "metadata": {},
   "source": [
    "#### 📝 Your answer here: "
   ]
  },
  {
   "cell_type": "markdown",
   "metadata": {},
   "source": [
    "Given the dataset $X = \\{x_1, x_2, \\dots, x_n\\}$, where $x_i \\in \\mathbb{R}^p$, the probability density function of a spherical Gaussian distribution is:\n",
    "\n",
    "$$\n",
    "p(x_i | \\mu, \\sigma^2) = \\frac{1}{(2\\pi \\sigma^2)^{p/2}} \\exp\\left(-\\frac{1}{2\\sigma^2} \\|x_i - \\mu\\|^2\\right)\n",
    "$$\n",
    "\n",
    "where the squared Euclidean norm is defined as:\n",
    "\n",
    "$$\n",
    "\\|x_i - \\mu\\|^2 = (x_i - \\mu)^\\top (x_i - \\mu).\n",
    "$$\n",
    "\n",
    "The log-likelihood function for the dataset $X$ is:\n",
    "\n",
    "$$\n",
    "\\mathcal{L}(\\mu, \\sigma^2) = \\sum_{i=1}^n \\log p(x_i | \\mu, \\sigma^2).\n",
    "$$\n",
    "\n",
    "Substituting the probability density function:\n",
    "\n",
    "$$\n",
    "\\mathcal{L}(\\mu, \\sigma^2) = -\\frac{np}{2} \\log(2\\pi) - \\frac{np}{2} \\log \\sigma^2 - \\frac{1}{2\\sigma^2} \\sum_{i=1}^n \\|x_i - \\mu\\|^2.\n",
    "$$\n",
    "\n",
    "\n",
    "\n",
    "MLE for $\\mu$:\n",
    "\n",
    "To determine the maximum likelihood estimator for $\\mu$, we differentiate $\\mathcal{L}(\\mu, \\sigma^2)$ with respect to $\\mu$:\n",
    "\n",
    "$$\n",
    "\\frac{\\partial \\mathcal{L}}{\\partial \\mu} = -\\frac{1}{\\sigma^2} \\sum_{i=1}^n (x_i - \\mu).\n",
    "$$\n",
    "\n",
    "Setting the derivative to zero:\n",
    "\n",
    "$$\n",
    "\\sum_{i=1}^n (x_i - \\mu) = 0 \\quad \\implies \\quad \\mu = \\frac{1}{n} \\sum_{i=1}^n x_i.\n",
    "$$\n",
    "\n",
    "**MLE for $\\mu$:**\n",
    "\n",
    "$$\n",
    "\\hat{\\mu} = \\frac{1}{n} \\sum_{i=1}^n x_i.\n",
    "$$\n",
    "\n",
    "\n",
    "\n",
    "MLE for $\\sigma^2$\n",
    "\n",
    "Next, we compute the derivative of $\\mathcal{L}(\\mu, \\sigma^2)$ with respect to $\\sigma^2$:\n",
    "\n",
    "$$\n",
    "\\frac{\\partial \\mathcal{L}}{\\partial \\sigma^2} = -\\frac{np}{2\\sigma^2} + \\frac{1}{2\\sigma^4} \\sum_{i=1}^n \\|x_i - \\mu\\|^2.\n",
    "$$\n",
    "\n",
    "Setting this derivative equal to zero:\n",
    "\n",
    "$$\n",
    "\\sigma^2 = \\frac{1}{np} \\sum_{i=1}^n \\|x_i - \\mu\\|^2.\n",
    "$$\n",
    "\n",
    "By substituting $\\hat{\\mu}$ in place of $\\mu$, the MLE for $\\sigma^2$ is:\n",
    "\n",
    "$$\n",
    "\\hat{\\sigma}^2 = \\frac{1}{np} \\sum_{i=1}^n \\|x_i - \\hat{\\mu}\\|^2.\n",
    "$$\n",
    "\n",
    "\n",
    "\n",
    "\n",
    "Finally:\n",
    "$$\n",
    "\\hat{\\mu} = \\frac{1}{n} \\sum_{i=1}^n x_i,\n",
    "$$\n",
    "\n",
    "$$\n",
    "\\hat{\\sigma}^2 = \\frac{1}{np} \\sum_{i=1}^n \\|x_i - \\hat{\\mu}\\|^2.\n",
    "$$\n",
    "\n",
    "$$\n",
    "\\hat{\\sigma} = \\sqrt{\\frac{1}{np} \\sum_{i=1}^n \\|x_i - \\hat{\\mu}\\|^2}\n",
    "$$\n"
   ]
  },
  {
   "cell_type": "markdown",
   "metadata": {},
   "source": [
    "# Part 2: Practical problems"
   ]
  },
  {
   "cell_type": "markdown",
   "metadata": {},
   "source": [
    "## Problem 5: Linear Regression with regularization [9 points]\n",
    "\n",
    "You are newly recruited as a Data Scientist at a leading consultancy company in Gothenburg. Your first task at the job is to help the Swedish Public Health Agency (folkhälsomyndigheten) for predicting the diabetes progression of patients. Assume that you are given a dataset D of $n$ patients with $D = \\{ (\\mathbf{x}_i, y_i)\\}_{i=1}^n$ where $\\mathbf{x}_i \\in \\mathbb{R}^p$ represents numerical features of each patients and $y_i \\in \\mathbb{R}$ represent the numerical diabetes progression.  One can also view the dataset D as a pair of matrices $(\\mathbf{X}, \\mathbf{y})$ with $\\mathbf{X} \\in \\mathbb{R}^{n \\times p}$ and $\\mathbf{y} \\in \\mathbb{R}^{n \\times 1}$.\n",
    "\n",
    "Fresh with the lectures in the machine learning course at Chalmers, you would like to use a linear model to quickly perform the task. In order words, you would like to find a vector $\\mathbf{w} \\in \\mathbb{R}^{p \\times 1}$  such that $\\mathbf{y} = \\mathbf{X} \\mathbf{w}$.  However,  you have just read one of the most popular machine learning books and it argues that standard linear regression (for finding $\\mathbf{w}$) can lead to various problems such as non-uniqueness of the solution,  overfitting, etc. As a result, you decided to add a penalty term called regularization to control the optimisation problem. More specifically, you want to solve for: $\\min_{\\mathbf{w}}  \\mathcal{L}(\\mathbf{w})$ where  $\\mathcal{L}(\\mathbf{w}) = \\left(\\sum_{i=1}^n (y_i - \\mathbf{w}^T\\mathbf{x}_i)^2 \\right) + \\left(\\alpha \\sum_{j=1}^p w_j^2 \\right) $ with $\\alpha \\in \\mathbb{R}$ a small coefficient that you will decide later on.\n",
    "\n",
    "Please note the slight changes in the notation. Recall that in the lectures we had a dataset $\\{ (\\mathbf{x}_n, t_n)\\}_{n=1}^N$ where $\\mathbf{x}_n \\in \\mathbb{R}^D$ and $t_n \\in \\mathbb{R}$. We also appended $1$ to the begining of $\\mathbf{x}_n$ so both $\\mathbf{x}_n$ and $\\mathbf{w}$ were in $\\mathbb{R}^{D+1}$. Thus, here $p$ is the same thing as $D+1$. Compare $w_1, w_2, \\dots, w_p$ with $w_0, w_1, \\dots, w_D$."
   ]
  },
  {
   "cell_type": "markdown",
   "metadata": {},
   "source": [
    "### a) Expression for loss function [1 point]\n",
    "Write down $\\mathcal{L}(\\mathbf{w})$ in matrix/vector forms using only $\\mathbf{X}$, $\\mathbf{y}$ and $\\mathbf{w}$ and the L2 norm. In other words, you are not allowed to use any components $y_i, \\mathbf{w}_j$ or $\\mathbf{x}_i$ ( For any vector $\\mathbf{z}$ use the following notation $|\\mathbf{z}|_2$ to mean the L2 norm of  $\\mathbf{z}$ See http://mathworld.wolfram.com/L2-Norm.html for more information about the L2 norm.)"
   ]
  },
  {
   "cell_type": "markdown",
   "metadata": {},
   "source": [
    "#### 📝 Your answer here:\n",
    "\n",
    "$\\mathcal{L}(\\mathbf{w}) = \\frac{1}{N}((\\mathbf{y} - \\mathbf{Xw})^T(\\mathbf{y} - \\mathbf{Xw}) + a \\,\\mathbf{w^Tw})$\n",
    "\n",
    "or with the $l^2$-norm\n",
    "\n",
    "$\\mathcal{L}(\\mathbf{w}) = \\frac{1}{N}((|\\mathbf{y} - \\mathbf{Xw}|^2_2) + a \\,|\\mathbf{w^Tw}|^2_2)$\n"
   ]
  },
  {
   "cell_type": "markdown",
   "metadata": {},
   "source": [
    "### b) Gradient of loss function [1 point] \n",
    "Derive and write down in matrix/vector forms the gradient of $\\mathcal{L}(\\mathbf{w})$ with respect to $\\mathbf{w}$. Show all the derivations. (Hint: You can start by  computing the gradient of the full expression and then convert it to matrix/vector forms. You can also directly get the gradients from your answer in a))"
   ]
  },
  {
   "cell_type": "markdown",
   "metadata": {},
   "source": [
    "#### 📝 Your answer here:\n",
    "\n",
    "\n",
    "\n",
    "#### Step 1: apply rule of transponents \n",
    "The rule is that (a + b)^T = a^T + b^t  \n",
    "so the expression $\\mathcal{L}(\\mathbf{w}) = \\frac{1}{N}((\\mathbf{y} - \\mathbf{Xw})^T(\\mathbf{y} - \\mathbf{Xw}) + a \\,\\mathbf{w^Tw})$ becomes: \n",
    "\n",
    "$\\mathcal{L}(\\mathbf{w}) = \\frac{1}{N}((\\mathbf{y}^T - \\mathbf{Xw}^T)(\\mathbf{y} - \\mathbf{Xw}) + a \\,\\mathbf{w^Tw})$\n",
    "\n",
    "#### Step 2: Multiply out the factors\n",
    "$\\mathcal{L}(\\mathbf{w}) = \\frac{1}{N}(\\mathbf{y}^T \\mathbf{y} - \\mathbf{y}^T \\mathbf{Xw} - \\mathbf{(Xw)}^T \\mathbf{y} + \\mathbf{(Xw)}^T \\mathbf{Xw} + a \\,\\mathbf{w^Tw})$\n",
    "\n",
    "#### Step 3: Recognize that $\\mathbf{y}^T \\mathbf{Xw} = \\mathbf{(Xw)}^T \\mathbf{y}$\n",
    "By applying the rules of transponents we get that $\\mathbf{y}^T \\mathbf{(Xw)}$  evaluates to $(\\mathbf{(Xw)}^T \\mathbf{y})^T$. We also know that $\\mathbf{(Xw)}^T \\mathbf{y}$ is a scalar and a transpose of a scalar does not change it so therefore $\\mathbf{y}^T \\mathbf{Xw} = \\mathbf{(Xw)}^T \\mathbf{y}$\n",
    "\n",
    "Now that we know this we can write the expression\n",
    "\n",
    "$\\mathcal{L}(\\mathbf{w}) = \\frac{1}{N}(\\mathbf{y}^T \\mathbf{y} - 2\\mathbf{y}^T \\mathbf{Xw} + \\mathbf{(Xw)}^T \\mathbf{Xw} + a \\,\\mathbf{w^Tw})$\n",
    "\n",
    "that we can derivate to get an expression we can use for gradient decent\n",
    "\n",
    "$\\frac{dL}{dw} = \\frac{1}{N}(2\\mathbf{y^TX} - 2\\mathbf{X^TXw^*} + 2a \\,\\mathbf{w^*} )$ "
   ]
  },
  {
   "cell_type": "markdown",
   "metadata": {},
   "source": [
    "\n",
    "### c) Derive optimal solution [2 points]\n",
    "Derive and write down in matrix/vector forms the solution $\\mathbf{w}^*$ to the optimization problem $\\min_{\\mathbf{w}}  \\mathcal{L}(\\mathbf{w})$. Show all your derivations. (Hint: $\\mathcal{L}(\\mathbf{w})$ is convex in $\\mathbf{w}$)"
   ]
  },
  {
   "cell_type": "markdown",
   "metadata": {},
   "source": [
    "#### 📝 Your answer here:\n",
    "\n",
    "#### Step 1: Find the derivative $\\frac{dL}{dw}$ and evaluate it for solutions equal to zero. \n",
    "$\\frac{dL}{dw} = \\frac{1}{N}(2\\mathbf{y^TX} - 2\\mathbf{X^TXw^*} + 2a \\,\\mathbf{w^*} ) = 0$.\n",
    "\n",
    "This becomes after some simplifications:\n",
    "\n",
    "$\\mathbf{w^*} = (\\mathbf{X^TX} - 2a\\mathbf{I})^{-1}(\\mathbf{y^TX})$, where $I \\in \\mathbb{R}^{p \\times p }.$"
   ]
  },
  {
   "cell_type": "markdown",
   "metadata": {},
   "source": [
    "### d) Uniqueness of solution [2 points]\n",
    "Under which condition on the $\\alpha$ is the solution $\\mathbf{w}^*$ unique? Prove rigorously your statement. Make no assumptions on $\\mathbf{X}$. (Hint: If your solution $\\mathbf{w}^*$ requires to invert a matrix, then one necessary condition for uniqueness is for the matrix to be invertible. And any positive definitive matrix https://en.wikipedia.org/wiki/Definiteness_of_a_matrix is invertible. You might also want to look at the properties of transposition https://en.wikipedia.org/wiki/Transpose)\n"
   ]
  },
  {
   "cell_type": "markdown",
   "metadata": {},
   "source": [
    "#### 📝 Your answer here:\n",
    "\n",
    "For $\\mathbf{w^*}$ to be a unique solution we must show that the equation of the form of a linear system \n",
    "\n",
    "$ \\mathbf{Ax} = \\mathbf{b}$  \n",
    "\n",
    "has an invertible matrix $\\mathbf{A}$ such that $\\mathbf{x}$ is the unique solution for $\\mathbf{x} = \\mathbf{A^{-1}b}$\n",
    "\n",
    "If we apply this to \n",
    "\n",
    "$\\mathbf{w^*} = (\\mathbf{X^TX} - 2\\alpha\\mathbf{I})^{-1}(\\mathbf{y^TX})$\n",
    "\n",
    "it equates to proving that $\\mathbf{X^TX} - 2\\alpha\\mathbf{I}$ is invertible for some condition on $\\alpha$. We know that a sqare matrix is invertible if and only if it has  nonzero eigenvalues. We also know that $\\mathbf{X^TX} -2\\alpha\\mathbf{I}$ is symetric and a symetric matrix is positive definite if and oly if all its eigenvalues are strictly positive. \n",
    "\n",
    "The definition of a eigenvalue is $A\\mathbf{v} = \\lambda \\mathbf{v}$. If we call the eigenvalues for $\\mathbf{X^TX}$ for $\\lambda_i$ then $\\mathbf{X^TX} \\mathbf{v} = \\lambda_i \\mathbf{v}$. \n",
    "\n",
    "If we apply our matrix $(\\mathbf{X^TX} - 2\\alpha\\mathbf{I}) $ to $\\mathbf{v}$ we get $(\\mathbf{X^TX} - 2\\alpha\\mathbf{I})\\mathbf{v} = (\\mathbf{X^TX}\\mathbf{v} - 2\\alpha\\mathbf{I}\\mathbf{v}) = \\lambda_i \\mathbf{v} - 2\\alpha\\mathbf{v}$ since $\\mathbf{I}\\mathbf{v} = \\mathbf{v}$. \n",
    "\n",
    "If we factor out $\\mathbf{v}$ we get \n",
    "\n",
    "$(\\mathbf{X^TX} - 2\\alpha\\mathbf{I})\\mathbf{v} = (\\lambda_{min} - 2\\alpha)\\mathbf{v}$\n",
    "where $\\lambda_{min}$ is the smallest eigenvalue of $\\mathbf{X^TX}$\n",
    "\n",
    "This shows that the eigenvalues for $(\\mathbf{X^TX} - 2\\alpha\\mathbf{I}) $ is $(\\lambda_{min} - 2\\alpha)$\n",
    "\n",
    "The condition on the eigenvalues of $(\\mathbf{X^TX} - 2\\alpha\\mathbf{I}) $ was that they were positive which gives the condition $(\\lambda_{min} - 2\\alpha) > 0$ which simplifies to $\\alpha < \\frac{\\lambda_{min}}{2}$"
   ]
  },
  {
   "cell_type": "markdown",
   "metadata": {},
   "source": [
    "\n",
    "### e) Implement linear model fitting [2 points]\n",
    "In the code block below, implement a well commented function `fit_linear_with_regularization` that takes as input $\\mathbf{X}$, $\\mathbf{y}$ and $\\alpha$ and return $\\mathbf{w}^*$ as computed in question 3. You are not allowed to use any loops (for-loop, while-loop ...) to do the implementation. Instead you must use numpy operations as much as possible. \n",
    "\n",
    "Fill in the `TODO` sections in the `fit_linear_with_regularization` function below.\n",
    "\n",
    "### f) Implement linear model prediction [3 points]\n",
    "In the code block below, implement a well commented function `predict` that takes as input a dataset $\\mathbf{X_{\\text{test}}}$ in the same dimensions as $\\mathbf{X}$ and return the predictions.   Write down the mean squared error (https://en.wikipedia.org/wiki/Mean_squared_error) of your predictions. Then on the same plot with legends, show:\n",
    "\n",
    " a) A scatter plot of the first feature of $\\mathbf{X_{\\text{test}}}$ (x-axis) and the diabetes progression $\\mathbf{y_{\\text{test}}}$ \n",
    " \n",
    " b) A plot of your prediction for $\\mathbf{X_{\\text{test}}}$\n",
    " \n",
    " The skeleton code in the cell below already implements most of data loading and you should only have to fill in the `TODO` sections. Again here no loops are allowed (for-loop, while loop in the implementation of the plots and the **predict** )\n"
   ]
  },
  {
   "cell_type": "code",
   "execution_count": 6,
   "metadata": {},
   "outputs": [
    {
     "name": "stdout",
     "output_type": "stream",
     "text": [
      "Mean Squared Error: 2010.2186\n"
     ]
    },
    {
     "data": {
      "image/png": "[encoded data removed]",
      "text/plain": [
       "<Figure size 800x600 with 1 Axes>"
      ]
     },
     "metadata": {},
     "output_type": "display_data"
    }
   ],
   "source": [
    "# Make it possible to show plots in the notebook.\n",
    "%matplotlib inline\n",
    "import matplotlib.pyplot as plt\n",
    "import numpy as np\n",
    "from sklearn import datasets\n",
    "\n",
    "def fit_linear_with_regularization(X, y, alpha):\n",
    "    \"\"\"\n",
    "    Fits a linear model with regularization (ridge regression).\n",
    "    \"\"\"\n",
    "    onesCol = np.ones((X.shape[0], 1))\n",
    "    X = np.hstack((onesCol, X))\n",
    "    nrOfCols = X.shape[1]  # Number of columns (features)\n",
    "    \n",
    "    # Compute ridge regression solution: (X^T X + λI)^(-1) X^T y\n",
    "    first = np.matmul(X.T, X) + 2 * alpha * np.eye(nrOfCols)  # Regularized term\n",
    "    invFirst = np.linalg.inv(first)  # Compute inverse\n",
    "    second = np.matmul(X.T, y)  # Compute X^T y\n",
    "    omegaStar = np.matmul(invFirst, second)  # Compute w (coefficients)\n",
    "    \n",
    "    return omegaStar\n",
    "\n",
    "def predict(X_test, w):\n",
    "    \"\"\"\n",
    "    Computes predictions using the learned weights.\n",
    "    \"\"\"\n",
    "    onesCol = np.ones((X_test.shape[0], 1))\n",
    "    X_test = np.hstack((onesCol, X_test))\n",
    "    return np.dot(X_test, w)  # Linear model: y_pred = X_test * w\n",
    "\n",
    "def plot_prediction(X_test, y_test, y_pred):\n",
    "    \"\"\"\n",
    "    Plots actual vs. predicted values and computes mean squared error.\n",
    "    \"\"\"\n",
    "    onesCol = np.ones((X_test.shape[0], 1))\n",
    "    X_test = np.hstack((onesCol, X_test))\n",
    "    firstFeatureX = X_test[:, 0]  # Extract first feature of X_test\n",
    "\n",
    "    plt.figure(figsize=(8, 6))\n",
    "    plt.scatter(firstFeatureX, y_test, label=\"Actual Data\", color=\"blue\", alpha=0.6)\n",
    "    plt.scatter(firstFeatureX, y_pred, label=\"Predicted Data\", color=\"red\", alpha=0.6)\n",
    "    plt.xlabel(\"First Feature of Patients\")\n",
    "    plt.ylabel(\"Diabetes Progression\")\n",
    "    plt.title(\"Actual vs Predicted Diabetes Progression\")\n",
    "    plt.legend()\n",
    "    \n",
    "    # Compute mean squared error\n",
    "    mse = np.mean((y_test - y_pred) ** 2)\n",
    "    return mse\n",
    "\n",
    "# Load the diabetes dataset\n",
    "X, y = datasets.load_diabetes(return_X_y=True)\n",
    "\n",
    "# Split the dataset into training and test set\n",
    "num_test_elements = 20\n",
    "X_train, X_test = X[:-num_test_elements], X[-num_test_elements:]\n",
    "y_train, y_test = y[:-num_test_elements], y[-num_test_elements:]\n",
    "\n",
    "# Set regularization parameter\n",
    "alpha = 0.01\n",
    "\n",
    "# Train the model\n",
    "w = fit_linear_with_regularization(X_train, y_train, alpha)\n",
    "\n",
    "# Make predictions\n",
    "y_pred = predict(X_test, w)\n",
    "\n",
    "# Plot results and compute mean squared error\n",
    "mse = plot_prediction(X_test, y_test, y_pred)\n",
    "print(f\"Mean Squared Error: {mse:.4f}\")\n",
    "\n",
    "# Show plot\n",
    "plt.show()\n"
   ]
  },
  {
   "cell_type": "markdown",
   "metadata": {},
   "source": [
    "# Bonus problem\n",
    "Answering this question will not give you any additional points. Not answering this question will not prevent you from getting full points (if all other questions are answered correctly). However, if you answer this question, we will pick exactly one question where you didn't receive full points in this assignment and give you **at most** 4 more points there. In particular, between the questions for which you have reasonably attempted a solution, we will pick the one where the difference between the full point and the point you received is the maximum."
   ]
  },
  {
   "cell_type": "markdown",
   "metadata": {},
   "source": [
    "## Problem 5: Bayesian Linear Regression [up to 4 bonus points]\n",
    "\n",
    "Proud of finishing the task using a linear model with regularization, you show your results to a representative of the Swedish Public Health Agency. You barely finish explaining your solution when the face of the representative turns red and you could distinctly hear: \"Bayesian is the only way: How come didn't you use any probabilities?\". \n",
    "\n",
    "You quickly head back to your desk and now assume a Gaussian prior on the solution $\\mathbf{w}$, that is $p(\\mathbf{w}) = \\mathcal{N}(\\mathbf{0}, \\lambda^{-1} \\mathbf{I})$ where $\\lambda \\in \\mathbb{R}$ is a constant real number, $I$ is the $p \\times p$ identity matrix and $\\mathcal{N}(\\mathbf{0}, \\lambda^{-1} \\mathbf{I})$ is used to mean the multivariate gaussian distribution with mean $\\mathbf{0} \\in \\mathbb{R}^p$ , a vector of zeros of dimension $p$ and covariance matrix $\\lambda^{-1} \\mathbf{I}$ . Then, you use the following likelihood:\n",
    "\n",
    "$$p(\\mathbf{y} | \\mathbf{X}, \\mathbf{w}) = \\prod_{i=1}^n \\mathcal{N}(\\mathbf{w}^T \\mathbf{x}_i, \\gamma^{-1})$$\n",
    "\n",
    "where $\\gamma \\in \\mathbb{R}$ is a constant real number and $\\mathcal{N}(\\mathbf{w}^T \\mathbf{x}_i, \\gamma^{-1})$ is the Gaussian distribution with mean  $\\mathbf{w}^T \\mathbf{x}_i$ and variance $\\gamma^{-1}$.\n"
   ]
  },
  {
   "cell_type": "markdown",
   "metadata": {},
   "source": [
    "\n",
    "### a) Derive log posterior [2 points]\n",
    "Derive an expression for the log posterior $\\ln p(\\mathbf{w} | \\mathbf{y}, \\mathbf{X})$ in vector/matrix form as a function of $\\mathbf{X}, \\mathbf{y}, \\mathbf{w}$. Show all derivations. You can ignore normalizing constants.\n",
    "\n"
   ]
  },
  {
   "cell_type": "markdown",
   "metadata": {},
   "source": [
    "#### 📝 Your answer here:"
   ]
  },
  {
   "cell_type": "markdown",
   "metadata": {},
   "source": [
    "\n",
    "### b) Equivalence of Bayesian and regularized regression [2 points]\n",
    "Show that maximizing the posterior in a) is  similar to minimizing the function $\\mathcal{L}(\\mathbf{w})$ seen in the previous section. Show your derivations. (Note: You should show this without computing the maximum of the posterior. Instead, you should express the log posterior in term of $\\mathcal{L}(\\mathbf{w})$, ignoring constants if necessary. Then find the $\\alpha$ of $\\mathcal{L}(\\mathbf{w})$ in term of $\\lambda$ and $\\gamma$)."
   ]
  },
  {
   "cell_type": "markdown",
   "metadata": {},
   "source": [
    "#### 📝 Your answer here:"
   ]
  }
 ],
 "metadata": {
  "colab": {
   "name": "Hw1_2019.ipynb",
   "provenance": [
    {
     "file_id": "1Y5XjPfo2fv3nGBtIxbf0F_WFtssz1N_S",
     "timestamp": 1553254350644
    }
   ],
   "version": "0.3.2"
  },
  "kernelspec": {
   "display_name": "Python 3",
   "language": "python",
   "name": "python3"
  },
  "language_info": {
   "codemirror_mode": {
    "name": "ipython",
    "version": 3
   },
   "file_extension": ".py",
   "mimetype": "text/x-python",
   "name": "python",
   "nbconvert_exporter": "python",
   "pygments_lexer": "ipython3",
   "version": "3.12.1"
  }
 },
 "nbformat": 4,
 "nbformat_minor": 1
}
